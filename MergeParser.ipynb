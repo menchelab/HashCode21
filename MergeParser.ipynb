{
 "cells": [
  {
   "cell_type": "code",
   "execution_count": 1,
   "metadata": {},
   "outputs": [],
   "source": [
    "import numpy as np"
   ]
  },
  {
   "cell_type": "markdown",
   "metadata": {},
   "source": [
    "* Direct network\n",
    "* edge = street\n",
    "* 2-way = 2 streets\n",
    "* fully-connected + no source/well (so at least k >= 2)\n",
    "* light at the tip of each edge\n",
    "* one car/second when green\n",
    "* L seconds to go in street\n",
    "* No backtrack\n",
    "\n",
    "Output:\n",
    "* Incoming street, duration"
   ]
  },
  {
   "cell_type": "code",
   "execution_count": 63,
   "metadata": {},
   "outputs": [],
   "source": [
    "import networkx as nx"
   ]
  },
  {
   "cell_type": "code",
   "execution_count": 37,
   "metadata": {},
   "outputs": [],
   "source": [
    "class Street():\n",
    "    def __init__(self,B,E,name,L):\n",
    "        self.B, self.E, self.name, self.L = B,E,name,L\n",
    "        \n",
    "    def __repr__(self):\n",
    "        return(\"/\".join([str(x) for x in ( self.B, self.E, self.name, self.L)]))"
   ]
  },
  {
   "cell_type": "code",
   "execution_count": 51,
   "metadata": {},
   "outputs": [],
   "source": [
    "class Car():\n",
    "    def __init__(self,P,streets):\n",
    "        self.P = P\n",
    "        self.streets = streets\n",
    "        \n",
    "    def __repr__(self):\n",
    "        return(str(self.P))"
   ]
  },
  {
   "cell_type": "code",
   "execution_count": 67,
   "metadata": {},
   "outputs": [],
   "source": [
    "class Simulation():\n",
    "    def __init__(self, file):\n",
    "        with open(file, \"r\") as f:\n",
    "            l1 = f.readline().strip()\n",
    "            print(l1)\n",
    "            self.D, self.I, self.S, self.V, self.F = l1.split(\" \")\n",
    "            self.D = int(self.D)\n",
    "            self.I = int(self.I)\n",
    "            self.S = int(self.S)\n",
    "            self.V = int(self.V)\n",
    "            self.F = int(self.F)\n",
    "            \n",
    "            self.streets = dict()\n",
    "            for i in range(self.S):\n",
    "                l = f.readline().strip()\n",
    "                B,E,street,L = l.split(\" \")\n",
    "                self.streets[street] = Street(B,E,street,L)\n",
    "                \n",
    "            self.cars = [0 for i in range(self.V)]\n",
    "            for i in range(self.V):\n",
    "                l = f.readline().strip()\n",
    "                P = l.split(\" \")[0]\n",
    "                s = l.split(\" \")[1:]\n",
    "                self.cars[i] = Car(P,s)\n",
    "                \n",
    "            # Street graph\n",
    "            self.city = nx.DiGraph([[s.B, s.E, {'name': sname, 'length': s.L}] for (sname, s) in self.streets.items()])\n",
    "                \n",
    "    def __repr__(self):\n",
    "        return(\"/\".join([str(x) for x in (self.D, self.I, self.S, self.V, self.F)]))"
   ]
  },
  {
   "cell_type": "code",
   "execution_count": 68,
   "metadata": {},
   "outputs": [
    {
     "name": "stdout",
     "output_type": "stream",
     "text": [
      "6 4 5 2 1000\n"
     ]
    }
   ],
   "source": [
    "s1 = Simulation(\"a.txt\")"
   ]
  },
  {
   "cell_type": "code",
   "execution_count": 69,
   "metadata": {},
   "outputs": [
    {
     "data": {
      "text/plain": [
       "<networkx.classes.digraph.DiGraph at 0x7f6135d702b0>"
      ]
     },
     "execution_count": 69,
     "metadata": {},
     "output_type": "execute_result"
    }
   ],
   "source": [
    "s1.city"
   ]
  },
  {
   "cell_type": "code",
   "execution_count": 70,
   "metadata": {},
   "outputs": [
    {
     "data": {
      "text/plain": [
       "OutEdgeView([('2', '0'), ('2', '3'), ('0', '1'), ('1', '2'), ('3', '1')])"
      ]
     },
     "execution_count": 70,
     "metadata": {},
     "output_type": "execute_result"
    }
   ],
   "source": [
    "nx.edges(s1.city)"
   ]
  }
 ],
 "metadata": {
  "kernelspec": {
   "display_name": "Python 3",
   "language": "python",
   "name": "python3"
  },
  "language_info": {
   "codemirror_mode": {
    "name": "ipython",
    "version": 3
   },
   "file_extension": ".py",
   "mimetype": "text/x-python",
   "name": "python",
   "nbconvert_exporter": "python",
   "pygments_lexer": "ipython3",
   "version": "3.7.3"
  }
 },
 "nbformat": 4,
 "nbformat_minor": 2
}
