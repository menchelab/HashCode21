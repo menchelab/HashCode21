{
 "cells": [
  {
   "cell_type": "code",
   "execution_count": 3,
   "metadata": {},
   "outputs": [],
   "source": [
    "import numpy as np"
   ]
  },
  {
   "cell_type": "markdown",
   "metadata": {},
   "source": [
    "* Direct network\n",
    "* edge = street\n",
    "* 2-way = 2 streets\n",
    "* fully-connected + no source/well (so at least k >= 2)\n",
    "* light at the tip of each edge\n",
    "* one car/second when green\n",
    "* L seconds to go in street\n",
    "* No backtrack\n",
    "\n",
    "Output:\n",
    "* Incoming street, duration"
   ]
  },
  {
   "cell_type": "code",
   "execution_count": 4,
   "metadata": {},
   "outputs": [],
   "source": [
    "import networkx as nx"
   ]
  },
  {
   "cell_type": "code",
   "execution_count": 5,
   "metadata": {},
   "outputs": [],
   "source": [
    "class Street():\n",
    "    def __init__(self,B,E,name,L):\n",
    "        self.B, self.E, self.name, self.L = B,E,name,L\n",
    "        \n",
    "    def __repr__(self):\n",
    "        return(\"/\".join([str(x) for x in ( self.B, self.E, self.name, self.L)]))"
   ]
  },
  {
   "cell_type": "code",
   "execution_count": 6,
   "metadata": {},
   "outputs": [],
   "source": [
    "class Car():\n",
    "    def __init__(self,P,streets):\n",
    "        self.P = P\n",
    "        self.streets = streets\n",
    "        \n",
    "    def __repr__(self):\n",
    "        return(str(self.P))"
   ]
  },
  {
   "cell_type": "code",
   "execution_count": 7,
   "metadata": {},
   "outputs": [],
   "source": [
    "class Simulation():\n",
    "    def __init__(self, file):\n",
    "        with open(file, \"r\") as f:\n",
    "            l1 = f.readline().strip()\n",
    "            print(l1)\n",
    "            self.D, self.I, self.S, self.V, self.F = l1.split(\" \")\n",
    "            self.D = int(self.D)\n",
    "            self.I = int(self.I)\n",
    "            self.S = int(self.S)\n",
    "            self.V = int(self.V)\n",
    "            self.F = int(self.F)\n",
    "            \n",
    "            self.streets = dict()\n",
    "            for i in range(self.S):\n",
    "                l = f.readline().strip()\n",
    "                B,E,street,L = l.split(\" \")\n",
    "                self.streets[street] = Street(B,E,street,L)\n",
    "                \n",
    "            self.cars = [0 for i in range(self.V)]\n",
    "            for i in range(self.V):\n",
    "                l = f.readline().strip()\n",
    "                P = l.split(\" \")[0]\n",
    "                s = l.split(\" \")[1:]\n",
    "                self.cars[i] = Car(P,s)\n",
    "                \n",
    "            # Street graph\n",
    "            self.city = nx.DiGraph([[s.B, s.E, {'name': sname, 'length': s.L}] for (sname, s) in self.streets.items()])\n",
    "                \n",
    "    def __repr__(self):\n",
    "        return(\"/\".join([str(x) for x in (self.D, self.I, self.S, self.V, self.F)]))"
   ]
  },
  {
   "cell_type": "code",
   "execution_count": 101,
   "metadata": {},
   "outputs": [],
   "source": [
    "simul_file = \"f\"\n",
    "infile = simul_file+\".txt\"\n",
    "outfile = simul_file+\".out\""
   ]
  },
  {
   "cell_type": "code",
   "execution_count": 102,
   "metadata": {},
   "outputs": [
    {
     "name": "stdout",
     "output_type": "stream",
     "text": [
      "1992 1662 10000 1000 500\n"
     ]
    }
   ],
   "source": [
    "s1 = Simulation(infile)"
   ]
  },
  {
   "cell_type": "markdown",
   "metadata": {},
   "source": [
    "## Example output"
   ]
  },
  {
   "cell_type": "code",
   "execution_count": 103,
   "metadata": {},
   "outputs": [
    {
     "data": {
      "text/plain": [
       "1992/1662/10000/1000/500"
      ]
     },
     "execution_count": 103,
     "metadata": {},
     "output_type": "execute_result"
    }
   ],
   "source": [
    "s1"
   ]
  },
  {
   "cell_type": "code",
   "execution_count": 104,
   "metadata": {},
   "outputs": [],
   "source": [
    "with open(outfile, \"w\") as f:\n",
    "    # We output something for all intersections\n",
    "    f.write(str(nx.number_of_nodes(s1.city))+\"\\n\")\n",
    "    for n in nx.nodes(s1.city):\n",
    "        f.write(n+\"\\n\")\n",
    "        incoming_streets = s1.city.in_edges(n)\n",
    "        # We output something for all incoming streets\n",
    "        f.write(str(len(incoming_streets))+\"\\n\")\n",
    "        for s in incoming_streets:\n",
    "            sname = s1.city[s[0]][s[1]]['name']\n",
    "            f.write(sname+\" 1\\n\")"
   ]
  }
 ],
 "metadata": {
  "kernelspec": {
   "display_name": "Python 3",
   "language": "python",
   "name": "python3"
  },
  "language_info": {
   "codemirror_mode": {
    "name": "ipython",
    "version": 3
   },
   "file_extension": ".py",
   "mimetype": "text/x-python",
   "name": "python",
   "nbconvert_exporter": "python",
   "pygments_lexer": "ipython3",
   "version": "3.7.3"
  }
 },
 "nbformat": 4,
 "nbformat_minor": 2
}
